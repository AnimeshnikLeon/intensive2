{
 "cells": [
  {
   "cell_type": "code",
   "execution_count": 1,
   "metadata": {},
   "outputs": [
    {
     "data": {
      "text/html": [
       "<style>pre { white-space: pre !important; }</style>"
      ],
      "text/plain": [
       "<IPython.core.display.HTML object>"
      ]
     },
     "metadata": {},
     "output_type": "display_data"
    }
   ],
   "source": [
    "from IPython.core.display import HTML\n",
    "display(HTML(\"<style>pre { white-space: pre !important; }</style>\"))"
   ]
  },
  {
   "cell_type": "code",
   "execution_count": 2,
   "metadata": {},
   "outputs": [],
   "source": [
    "import pandas as pd\n",
    "import numpy as np\n",
    "import pyspark.sql.functions as f\n",
    "\n",
    "from sklearn.metrics import roc_auc_score\n",
    "from pyspark.sql.window import Window\n",
    "from pyspark.sql import SparkSession"
   ]
  },
  {
   "cell_type": "code",
   "execution_count": 3,
   "metadata": {},
   "outputs": [],
   "source": [
    "# Для вывода информации о сессии:\n",
    "# spark.sparkContext\n",
    "spark = (\n",
    "    SparkSession\n",
    "    .builder\n",
    "    .appName(\"name\")\n",
    "    .getOrCreate()\n",
    ")"
   ]
  },
  {
   "cell_type": "code",
   "execution_count": 4,
   "metadata": {},
   "outputs": [],
   "source": [
    "config = {\n",
    "    'data_path':'dataset/data_v1'\n",
    "}"
   ]
  },
  {
   "cell_type": "code",
   "execution_count": 5,
   "metadata": {},
   "outputs": [
    {
     "ename": "AnalysisException",
     "evalue": "[PATH_NOT_FOUND] Path does not exist: file:/c:/Users/leoro/Desktop/intense/2/ML/Factor analyzis/dataset/data_v1.",
     "output_type": "error",
     "traceback": [
      "\u001b[1;31m---------------------------------------------------------------------------\u001b[0m",
      "\u001b[1;31mAnalysisException\u001b[0m                         Traceback (most recent call last)",
      "Cell \u001b[1;32mIn[5], line 4\u001b[0m\n\u001b[0;32m      1\u001b[0m df \u001b[38;5;241m=\u001b[39m (\n\u001b[0;32m      2\u001b[0m     \u001b[43mspark\u001b[49m\n\u001b[0;32m      3\u001b[0m \u001b[43m    \u001b[49m\u001b[38;5;241;43m.\u001b[39;49m\u001b[43mread\u001b[49m\n\u001b[1;32m----> 4\u001b[0m \u001b[43m    \u001b[49m\u001b[38;5;241;43m.\u001b[39;49m\u001b[43mparquet\u001b[49m\u001b[43m(\u001b[49m\u001b[43mconfig\u001b[49m\u001b[43m[\u001b[49m\u001b[38;5;124;43m'\u001b[39;49m\u001b[38;5;124;43mdata_path\u001b[39;49m\u001b[38;5;124;43m'\u001b[39;49m\u001b[43m]\u001b[49m\u001b[43m)\u001b[49m\n\u001b[0;32m      5\u001b[0m )\n\u001b[0;32m      6\u001b[0m df\u001b[38;5;241m.\u001b[39mshow()\n",
      "File \u001b[1;32mc:\\Users\\leoro\\Desktop\\intense\\2\\venv\\Lib\\site-packages\\pyspark\\sql\\readwriter.py:544\u001b[0m, in \u001b[0;36mDataFrameReader.parquet\u001b[1;34m(self, *paths, **options)\u001b[0m\n\u001b[0;32m    533\u001b[0m int96RebaseMode \u001b[38;5;241m=\u001b[39m options\u001b[38;5;241m.\u001b[39mget(\u001b[38;5;124m\"\u001b[39m\u001b[38;5;124mint96RebaseMode\u001b[39m\u001b[38;5;124m\"\u001b[39m, \u001b[38;5;28;01mNone\u001b[39;00m)\n\u001b[0;32m    534\u001b[0m \u001b[38;5;28mself\u001b[39m\u001b[38;5;241m.\u001b[39m_set_opts(\n\u001b[0;32m    535\u001b[0m     mergeSchema\u001b[38;5;241m=\u001b[39mmergeSchema,\n\u001b[0;32m    536\u001b[0m     pathGlobFilter\u001b[38;5;241m=\u001b[39mpathGlobFilter,\n\u001b[1;32m   (...)\u001b[0m\n\u001b[0;32m    541\u001b[0m     int96RebaseMode\u001b[38;5;241m=\u001b[39mint96RebaseMode,\n\u001b[0;32m    542\u001b[0m )\n\u001b[1;32m--> 544\u001b[0m \u001b[38;5;28;01mreturn\u001b[39;00m \u001b[38;5;28mself\u001b[39m\u001b[38;5;241m.\u001b[39m_df(\u001b[38;5;28;43mself\u001b[39;49m\u001b[38;5;241;43m.\u001b[39;49m\u001b[43m_jreader\u001b[49m\u001b[38;5;241;43m.\u001b[39;49m\u001b[43mparquet\u001b[49m\u001b[43m(\u001b[49m\u001b[43m_to_seq\u001b[49m\u001b[43m(\u001b[49m\u001b[38;5;28;43mself\u001b[39;49m\u001b[38;5;241;43m.\u001b[39;49m\u001b[43m_spark\u001b[49m\u001b[38;5;241;43m.\u001b[39;49m\u001b[43m_sc\u001b[49m\u001b[43m,\u001b[49m\u001b[43m \u001b[49m\u001b[43mpaths\u001b[49m\u001b[43m)\u001b[49m\u001b[43m)\u001b[49m)\n",
      "File \u001b[1;32mc:\\Users\\leoro\\Desktop\\intense\\2\\venv\\Lib\\site-packages\\py4j\\java_gateway.py:1322\u001b[0m, in \u001b[0;36mJavaMember.__call__\u001b[1;34m(self, *args)\u001b[0m\n\u001b[0;32m   1316\u001b[0m command \u001b[38;5;241m=\u001b[39m proto\u001b[38;5;241m.\u001b[39mCALL_COMMAND_NAME \u001b[38;5;241m+\u001b[39m\\\n\u001b[0;32m   1317\u001b[0m     \u001b[38;5;28mself\u001b[39m\u001b[38;5;241m.\u001b[39mcommand_header \u001b[38;5;241m+\u001b[39m\\\n\u001b[0;32m   1318\u001b[0m     args_command \u001b[38;5;241m+\u001b[39m\\\n\u001b[0;32m   1319\u001b[0m     proto\u001b[38;5;241m.\u001b[39mEND_COMMAND_PART\n\u001b[0;32m   1321\u001b[0m answer \u001b[38;5;241m=\u001b[39m \u001b[38;5;28mself\u001b[39m\u001b[38;5;241m.\u001b[39mgateway_client\u001b[38;5;241m.\u001b[39msend_command(command)\n\u001b[1;32m-> 1322\u001b[0m return_value \u001b[38;5;241m=\u001b[39m \u001b[43mget_return_value\u001b[49m\u001b[43m(\u001b[49m\n\u001b[0;32m   1323\u001b[0m \u001b[43m    \u001b[49m\u001b[43manswer\u001b[49m\u001b[43m,\u001b[49m\u001b[43m \u001b[49m\u001b[38;5;28;43mself\u001b[39;49m\u001b[38;5;241;43m.\u001b[39;49m\u001b[43mgateway_client\u001b[49m\u001b[43m,\u001b[49m\u001b[43m \u001b[49m\u001b[38;5;28;43mself\u001b[39;49m\u001b[38;5;241;43m.\u001b[39;49m\u001b[43mtarget_id\u001b[49m\u001b[43m,\u001b[49m\u001b[43m \u001b[49m\u001b[38;5;28;43mself\u001b[39;49m\u001b[38;5;241;43m.\u001b[39;49m\u001b[43mname\u001b[49m\u001b[43m)\u001b[49m\n\u001b[0;32m   1325\u001b[0m \u001b[38;5;28;01mfor\u001b[39;00m temp_arg \u001b[38;5;129;01min\u001b[39;00m temp_args:\n\u001b[0;32m   1326\u001b[0m     \u001b[38;5;28;01mif\u001b[39;00m \u001b[38;5;28mhasattr\u001b[39m(temp_arg, \u001b[38;5;124m\"\u001b[39m\u001b[38;5;124m_detach\u001b[39m\u001b[38;5;124m\"\u001b[39m):\n",
      "File \u001b[1;32mc:\\Users\\leoro\\Desktop\\intense\\2\\venv\\Lib\\site-packages\\pyspark\\errors\\exceptions\\captured.py:185\u001b[0m, in \u001b[0;36mcapture_sql_exception.<locals>.deco\u001b[1;34m(*a, **kw)\u001b[0m\n\u001b[0;32m    181\u001b[0m converted \u001b[38;5;241m=\u001b[39m convert_exception(e\u001b[38;5;241m.\u001b[39mjava_exception)\n\u001b[0;32m    182\u001b[0m \u001b[38;5;28;01mif\u001b[39;00m \u001b[38;5;129;01mnot\u001b[39;00m \u001b[38;5;28misinstance\u001b[39m(converted, UnknownException):\n\u001b[0;32m    183\u001b[0m     \u001b[38;5;66;03m# Hide where the exception came from that shows a non-Pythonic\u001b[39;00m\n\u001b[0;32m    184\u001b[0m     \u001b[38;5;66;03m# JVM exception message.\u001b[39;00m\n\u001b[1;32m--> 185\u001b[0m     \u001b[38;5;28;01mraise\u001b[39;00m converted \u001b[38;5;28;01mfrom\u001b[39;00m \u001b[38;5;28;01mNone\u001b[39;00m\n\u001b[0;32m    186\u001b[0m \u001b[38;5;28;01melse\u001b[39;00m:\n\u001b[0;32m    187\u001b[0m     \u001b[38;5;28;01mraise\u001b[39;00m\n",
      "\u001b[1;31mAnalysisException\u001b[0m: [PATH_NOT_FOUND] Path does not exist: file:/c:/Users/leoro/Desktop/intense/2/ML/Factor analyzis/dataset/data_v1."
     ]
    }
   ],
   "source": [
    "df = (\n",
    "    spark\n",
    "    .read\n",
    "    .parquet(config['data_path'])\n",
    ")\n",
    "df.show()"
   ]
  },
  {
   "cell_type": "code",
   "execution_count": 7,
   "metadata": {
    "execution": {
     "iopub.execute_input": "2023-09-08T20:12:40.940122Z",
     "iopub.status.busy": "2023-09-08T20:12:40.939720Z",
     "iopub.status.idle": "2023-09-08T20:12:40.951126Z",
     "shell.execute_reply": "2023-09-08T20:12:40.949855Z",
     "shell.execute_reply.started": "2023-09-08T20:12:40.940085Z"
    }
   },
   "outputs": [],
   "source": [
    "def unpivot(df, cols, name_col: str, name_value: str):\n",
    "    unpvt = (\n",
    "        f.explode(\n",
    "            f.array(*[f.struct(f.lit(col).alias('name_col'),f.col(col).alias('name_value'))for col in cols]\n",
    "            )\n",
    "        )\n",
    "        .alias('unpvt')\n",
    "    )\n",
    "\n",
    "    unchanged_cols = list(filter(lambda x: x not in cols, df.columns))\n",
    "    \n",
    "    return (\n",
    "        df\n",
    "        .select(*unchanged_cols, unpvt)\n",
    "        .select(*unchanged_cols,f.col('unpvt.name_col').alias(name_col),f.col('unpvt.name_value').alias(name_value)\n",
    "        )\n",
    "    )\n",
    "    "
   ]
  },
  {
   "cell_type": "code",
   "execution_count": 8,
   "metadata": {
    "execution": {
     "iopub.execute_input": "2023-09-08T20:12:40.952864Z",
     "iopub.status.busy": "2023-09-08T20:12:40.952446Z",
     "iopub.status.idle": "2023-09-08T20:15:34.019690Z",
     "shell.execute_reply": "2023-09-08T20:15:34.018342Z",
     "shell.execute_reply.started": "2023-09-08T20:12:40.952823Z"
    }
   },
   "outputs": [
    {
     "name": "stderr",
     "output_type": "stream",
     "text": [
      "23/09/08 20:13:02 WARN DAGScheduler: Broadcasting large task binary with size 1596.5 KiB\n",
      "23/09/08 20:13:03 WARN DAGScheduler: Broadcasting large task binary with size 1669.6 KiB\n",
      "23/09/08 20:14:23 WARN DAGScheduler: Broadcasting large task binary with size 2.3 MiB\n",
      "23/09/08 20:14:48 WARN DAGScheduler: Broadcasting large task binary with size 2.4 MiB\n",
      "23/09/08 20:15:32 WARN DAGScheduler: Broadcasting large task binary with size 4.3 MiB\n",
      "                                                                                \r"
     ]
    },
    {
     "data": {
      "text/html": [
       "<div>\n",
       "<style scoped>\n",
       "    .dataframe tbody tr th:only-of-type {\n",
       "        vertical-align: middle;\n",
       "    }\n",
       "\n",
       "    .dataframe tbody tr th {\n",
       "        vertical-align: top;\n",
       "    }\n",
       "\n",
       "    .dataframe thead th {\n",
       "        text-align: right;\n",
       "    }\n",
       "</style>\n",
       "<table border=\"1\" class=\"dataframe\">\n",
       "  <thead>\n",
       "    <tr style=\"text-align: right;\">\n",
       "      <th></th>\n",
       "      <th>report_date</th>\n",
       "      <th>feature_name</th>\n",
       "      <th>not_null_percent</th>\n",
       "      <th>mode_frequency</th>\n",
       "    </tr>\n",
       "  </thead>\n",
       "  <tbody>\n",
       "    <tr>\n",
       "      <th>0</th>\n",
       "      <td>2021-02-01</td>\n",
       "      <td>col1271</td>\n",
       "      <td>0.000000</td>\n",
       "      <td>NaN</td>\n",
       "    </tr>\n",
       "    <tr>\n",
       "      <th>1</th>\n",
       "      <td>2021-02-01</td>\n",
       "      <td>col2271</td>\n",
       "      <td>0.083333</td>\n",
       "      <td>0.222222</td>\n",
       "    </tr>\n",
       "    <tr>\n",
       "      <th>2</th>\n",
       "      <td>2021-02-01</td>\n",
       "      <td>col245</td>\n",
       "      <td>0.000000</td>\n",
       "      <td>NaN</td>\n",
       "    </tr>\n",
       "    <tr>\n",
       "      <th>3</th>\n",
       "      <td>2021-02-01</td>\n",
       "      <td>col2548</td>\n",
       "      <td>0.027778</td>\n",
       "      <td>0.333333</td>\n",
       "    </tr>\n",
       "    <tr>\n",
       "      <th>4</th>\n",
       "      <td>2021-02-01</td>\n",
       "      <td>col336</td>\n",
       "      <td>0.000000</td>\n",
       "      <td>NaN</td>\n",
       "    </tr>\n",
       "  </tbody>\n",
       "</table>\n",
       "</div>"
      ],
      "text/plain": [
       "  report_date feature_name  not_null_percent  mode_frequency\n",
       "0  2021-02-01      col1271          0.000000             NaN\n",
       "1  2021-02-01      col2271          0.083333        0.222222\n",
       "2  2021-02-01       col245          0.000000             NaN\n",
       "3  2021-02-01      col2548          0.027778        0.333333\n",
       "4  2021-02-01       col336          0.000000             NaN"
      ]
     },
     "execution_count": 8,
     "metadata": {},
     "output_type": "execute_result"
    }
   ],
   "source": [
    "features = [col for col in df.columns if col not in ['target', 'client_id', 'report_date']]\n",
    "\n",
    "w = Window.partitionBy('report_date', 'feature_name', 'feature_value')\n",
    "unpivot_df = (\n",
    "    unpivot(df, features, 'feature_name', 'feature_value')\n",
    "    .withColumn(\n",
    "        'value_freq',\n",
    "        f.count(f.when(f.col('feature_value').isNotNull(), f.col('feature_value')))\n",
    "        .over(w)\n",
    "    )\n",
    ")\n",
    "\n",
    "not_null_percent = (\n",
    "    unpivot_df\n",
    "    .groupBy('report_date', 'feature_name')\n",
    "    .agg((f.count('feature_value') / f.count('*')).alias('not_null_percent'))\n",
    "\n",
    ")\n",
    "\n",
    "mode_frequency = (\n",
    "    unpivot_df\n",
    "    .groupBy('report_date', 'feature_name')\n",
    "    .agg((f.max('value_freq') / f.count('feature_value')).alias('mode_frequency'))\n",
    ")\n",
    "\n",
    "factor_df = not_null_percent.join(mode_frequency, on=['report_date','feature_name'], how='inner').toPandas()\n",
    "factor_df.head()"
   ]
  },
  {
   "cell_type": "code",
   "execution_count": null,
   "metadata": {
    "execution": {
     "iopub.execute_input": "2023-09-08T20:15:34.021559Z",
     "iopub.status.busy": "2023-09-08T20:15:34.021200Z",
     "iopub.status.idle": "2023-09-08T20:18:18.148162Z",
     "shell.execute_reply": "2023-09-08T20:18:18.146920Z",
     "shell.execute_reply.started": "2023-09-08T20:15:34.021528Z"
    }
   },
   "outputs": [
    {
     "data": {
      "text/html": [
       "<div>\n",
       "<style scoped>\n",
       "    .dataframe tbody tr th:only-of-type {\n",
       "        vertical-align: middle;\n",
       "    }\n",
       "\n",
       "    .dataframe tbody tr th {\n",
       "        vertical-align: top;\n",
       "    }\n",
       "\n",
       "    .dataframe thead th {\n",
       "        text-align: right;\n",
       "    }\n",
       "</style>\n",
       "<table border=\"1\" class=\"dataframe\">\n",
       "  <thead>\n",
       "    <tr style=\"text-align: right;\">\n",
       "      <th></th>\n",
       "      <th>ind_gini</th>\n",
       "      <th>feature_name</th>\n",
       "    </tr>\n",
       "  </thead>\n",
       "  <tbody>\n",
       "    <tr>\n",
       "      <th>0</th>\n",
       "      <td>NaN</td>\n",
       "      <td>col1</td>\n",
       "    </tr>\n",
       "    <tr>\n",
       "      <th>1</th>\n",
       "      <td>NaN</td>\n",
       "      <td>col2</td>\n",
       "    </tr>\n",
       "    <tr>\n",
       "      <th>2</th>\n",
       "      <td>NaN</td>\n",
       "      <td>col3</td>\n",
       "    </tr>\n",
       "    <tr>\n",
       "      <th>3</th>\n",
       "      <td>NaN</td>\n",
       "      <td>col4</td>\n",
       "    </tr>\n",
       "    <tr>\n",
       "      <th>4</th>\n",
       "      <td>NaN</td>\n",
       "      <td>col5</td>\n",
       "    </tr>\n",
       "  </tbody>\n",
       "</table>\n",
       "</div>"
      ],
      "text/plain": [
       "   ind_gini feature_name\n",
       "0       NaN         col1\n",
       "1       NaN         col2\n",
       "2       NaN         col3\n",
       "3       NaN         col4\n",
       "4       NaN         col5"
      ]
     },
     "execution_count": 9,
     "metadata": {},
     "output_type": "execute_result"
    }
   ],
   "source": [
    "df = (\n",
    "    pd.read_parquet('../dataset/data_v1')\n",
    ")\n",
    "\n",
    "gini_list = []\n",
    "feature_list = []\n",
    "for feature in features:\n",
    "    try:\n",
    "        data = df[df[feature].isnull() == False]\n",
    "        gini = np.round(abs((roc_auc_score(data['target'],data[feature]))*2 - 1),3)\n",
    "        gini_list.append(gini)\n",
    "        feature_list.append(feature)\n",
    "    except:\n",
    "        \n",
    "        gini_list.append(np.nan)\n",
    "        feature_list.append(feature)\n",
    "\n",
    "\n",
    "gini_df = pd.DataFrame(\n",
    "    {\n",
    "        'ind_gini':gini_list,\n",
    "        'feature_name':feature_list\n",
    "    }\n",
    ")\n",
    "gini_df.head()"
   ]
  },
  {
   "cell_type": "code",
   "execution_count": 13,
   "metadata": {
    "execution": {
     "iopub.execute_input": "2023-09-08T20:30:05.679374Z",
     "iopub.status.busy": "2023-09-08T20:30:05.678843Z",
     "iopub.status.idle": "2023-09-08T20:38:54.209079Z",
     "shell.execute_reply": "2023-09-08T20:38:54.207916Z",
     "shell.execute_reply.started": "2023-09-08T20:30:05.679338Z"
    }
   },
   "outputs": [
    {
     "data": {
      "text/html": [
       "<div>\n",
       "<style scoped>\n",
       "    .dataframe tbody tr th:only-of-type {\n",
       "        vertical-align: middle;\n",
       "    }\n",
       "\n",
       "    .dataframe tbody tr th {\n",
       "        vertical-align: top;\n",
       "    }\n",
       "\n",
       "    .dataframe thead th {\n",
       "        text-align: right;\n",
       "    }\n",
       "</style>\n",
       "<table border=\"1\" class=\"dataframe\">\n",
       "  <thead>\n",
       "    <tr style=\"text-align: right;\">\n",
       "      <th></th>\n",
       "      <th>feature_name</th>\n",
       "      <th>cor_group</th>\n",
       "    </tr>\n",
       "  </thead>\n",
       "  <tbody>\n",
       "    <tr>\n",
       "      <th>0</th>\n",
       "      <td>col1</td>\n",
       "      <td>1</td>\n",
       "    </tr>\n",
       "    <tr>\n",
       "      <th>1</th>\n",
       "      <td>col2</td>\n",
       "      <td>1</td>\n",
       "    </tr>\n",
       "    <tr>\n",
       "      <th>2</th>\n",
       "      <td>col3</td>\n",
       "      <td>1</td>\n",
       "    </tr>\n",
       "    <tr>\n",
       "      <th>3</th>\n",
       "      <td>col4</td>\n",
       "      <td>1</td>\n",
       "    </tr>\n",
       "    <tr>\n",
       "      <th>4</th>\n",
       "      <td>col73</td>\n",
       "      <td>1</td>\n",
       "    </tr>\n",
       "  </tbody>\n",
       "</table>\n",
       "</div>"
      ],
      "text/plain": [
       "  feature_name  cor_group\n",
       "0         col1          1\n",
       "1         col2          1\n",
       "2         col3          1\n",
       "3         col4          1\n",
       "4        col73          1"
      ]
     },
     "execution_count": 13,
     "metadata": {},
     "output_type": "execute_result"
    }
   ],
   "source": [
    "obj = list(df.select_dtypes('object').columns)\n",
    "features_corr = [f for f in features if f not in obj]\n",
    "\n",
    "correlation_matrix_pd = df[features_corr].corr(method='spearman')\n",
    "\n",
    "\n",
    "threshold = 0.85\n",
    "groups = {}\n",
    "group_number = 1\n",
    "\n",
    "for i, col in enumerate(correlation_matrix_pd.columns):\n",
    "    for j in range(i+1, len(correlation_matrix_pd.columns)):\n",
    "        if abs(correlation_matrix_pd.iloc[i, j]) > threshold:\n",
    "            if col not in groups:\n",
    "                groups[col] = group_number\n",
    "                group_number += 1\n",
    "            if correlation_matrix_pd.columns[j] not in groups:\n",
    "                groups[correlation_matrix_pd.columns[j]] = groups[col]\n",
    "                \n",
    "corr_df = pd.DataFrame(groups, index=range(1)).T.reset_index()\n",
    "corr_df.columns = ['feature_name','cor_group']\n",
    "corr_df.head()"
   ]
  },
  {
   "cell_type": "code",
   "execution_count": 15,
   "metadata": {
    "execution": {
     "iopub.execute_input": "2023-09-08T20:39:33.980617Z",
     "iopub.status.busy": "2023-09-08T20:39:33.980037Z",
     "iopub.status.idle": "2023-09-08T20:39:33.995044Z",
     "shell.execute_reply": "2023-09-08T20:39:33.993817Z",
     "shell.execute_reply.started": "2023-09-08T20:39:33.980575Z"
    }
   },
   "outputs": [
    {
     "data": {
      "text/plain": [
       "cor_group\n",
       "1     744\n",
       "2     538\n",
       "4     229\n",
       "8     125\n",
       "70     33\n",
       "3      29\n",
       "72     24\n",
       "6      19\n",
       "10     16\n",
       "54     14\n",
       "71     12\n",
       "40     10\n",
       "91      8\n",
       "79      8\n",
       "92      8\n",
       "5       8\n",
       "29      7\n",
       "42      5\n",
       "53      4\n",
       "85      4\n",
       "74      3\n",
       "75      3\n",
       "52      3\n",
       "32      3\n",
       "78      3\n",
       "7       3\n",
       "47      3\n",
       "76      3\n",
       "81      3\n",
       "58      2\n",
       "Name: count, dtype: int64"
      ]
     },
     "execution_count": 15,
     "metadata": {},
     "output_type": "execute_result"
    }
   ],
   "source": [
    "corr_df['cor_group'].value_counts().head(30)"
   ]
  },
  {
   "cell_type": "code",
   "execution_count": null,
   "metadata": {
    "execution": {
     "iopub.execute_input": "2023-09-08T20:43:09.099502Z",
     "iopub.status.busy": "2023-09-08T20:43:09.098742Z",
     "iopub.status.idle": "2023-09-08T20:43:09.175165Z",
     "shell.execute_reply": "2023-09-08T20:43:09.173955Z",
     "shell.execute_reply.started": "2023-09-08T20:43:09.099445Z"
    }
   },
   "outputs": [
    {
     "data": {
      "text/html": [
       "<div>\n",
       "<style scoped>\n",
       "    .dataframe tbody tr th:only-of-type {\n",
       "        vertical-align: middle;\n",
       "    }\n",
       "\n",
       "    .dataframe tbody tr th {\n",
       "        vertical-align: top;\n",
       "    }\n",
       "\n",
       "    .dataframe thead th {\n",
       "        text-align: right;\n",
       "    }\n",
       "</style>\n",
       "<table border=\"1\" class=\"dataframe\">\n",
       "  <thead>\n",
       "    <tr style=\"text-align: right;\">\n",
       "      <th></th>\n",
       "      <th>report_date</th>\n",
       "      <th>feature_name</th>\n",
       "      <th>not_null_percent</th>\n",
       "      <th>mode_frequency</th>\n",
       "      <th>ind_gini</th>\n",
       "      <th>cor_group</th>\n",
       "    </tr>\n",
       "  </thead>\n",
       "  <tbody>\n",
       "    <tr>\n",
       "      <th>0</th>\n",
       "      <td>2021-02-01</td>\n",
       "      <td>col1271</td>\n",
       "      <td>0.000000</td>\n",
       "      <td>NaN</td>\n",
       "      <td>0.132</td>\n",
       "      <td>8.0</td>\n",
       "    </tr>\n",
       "    <tr>\n",
       "      <th>1</th>\n",
       "      <td>2021-02-01</td>\n",
       "      <td>col2271</td>\n",
       "      <td>0.083333</td>\n",
       "      <td>0.222222</td>\n",
       "      <td>0.006</td>\n",
       "      <td>1.0</td>\n",
       "    </tr>\n",
       "    <tr>\n",
       "      <th>2</th>\n",
       "      <td>2021-02-01</td>\n",
       "      <td>col245</td>\n",
       "      <td>0.000000</td>\n",
       "      <td>NaN</td>\n",
       "      <td>0.022</td>\n",
       "      <td>12.0</td>\n",
       "    </tr>\n",
       "    <tr>\n",
       "      <th>3</th>\n",
       "      <td>2021-02-01</td>\n",
       "      <td>col2548</td>\n",
       "      <td>0.027778</td>\n",
       "      <td>0.333333</td>\n",
       "      <td>0.172</td>\n",
       "      <td>1.0</td>\n",
       "    </tr>\n",
       "    <tr>\n",
       "      <th>4</th>\n",
       "      <td>2021-02-01</td>\n",
       "      <td>col336</td>\n",
       "      <td>0.000000</td>\n",
       "      <td>NaN</td>\n",
       "      <td>0.144</td>\n",
       "      <td>1.0</td>\n",
       "    </tr>\n",
       "  </tbody>\n",
       "</table>\n",
       "</div>"
      ],
      "text/plain": [
       "  report_date feature_name  not_null_percent  mode_frequency  ind_gini  \\\n",
       "0  2021-02-01      col1271          0.000000             NaN     0.132   \n",
       "1  2021-02-01      col2271          0.083333        0.222222     0.006   \n",
       "2  2021-02-01       col245          0.000000             NaN     0.022   \n",
       "3  2021-02-01      col2548          0.027778        0.333333     0.172   \n",
       "4  2021-02-01       col336          0.000000             NaN     0.144   \n",
       "\n",
       "   cor_group  \n",
       "0        8.0  \n",
       "1        1.0  \n",
       "2       12.0  \n",
       "3        1.0  \n",
       "4        1.0  "
      ]
     },
     "execution_count": 16,
     "metadata": {},
     "output_type": "execute_result"
    }
   ],
   "source": [
    "factor_df = (\n",
    "    factor_df\n",
    "    .merge(gini_df, on='feature_name', how='left')\n",
    "    .merge(corr_df, on='feature_name', how='left')\n",
    ")\n",
    "\n",
    "factor_df.to_parquet('../dataset/factor_analysis.parquet')"
   ]
  },
  {
   "cell_type": "code",
   "execution_count": null,
   "metadata": {
    "execution": {
     "iopub.execute_input": "2023-09-08T20:44:47.557657Z",
     "iopub.status.busy": "2023-09-08T20:44:47.557020Z",
     "iopub.status.idle": "2023-09-08T20:44:47.602078Z",
     "shell.execute_reply": "2023-09-08T20:44:47.600841Z",
     "shell.execute_reply.started": "2023-09-08T20:44:47.557624Z"
    }
   },
   "outputs": [],
   "source": [
    "factor_df.to_parquet('../dataset/factor_analysis.parquet')"
   ]
  },
  {
   "cell_type": "code",
   "execution_count": null,
   "metadata": {},
   "outputs": [],
   "source": [
    "!zip -r /kaggle/working/factor_analysis.zip factor_analysis"
   ]
  }
 ],
 "metadata": {
  "kernelspec": {
   "display_name": "venv",
   "language": "python",
   "name": "python3"
  },
  "language_info": {
   "codemirror_mode": {
    "name": "ipython",
    "version": 3
   },
   "file_extension": ".py",
   "mimetype": "text/x-python",
   "name": "python",
   "nbconvert_exporter": "python",
   "pygments_lexer": "ipython3",
   "version": "3.11.1"
  }
 },
 "nbformat": 4,
 "nbformat_minor": 4
}
